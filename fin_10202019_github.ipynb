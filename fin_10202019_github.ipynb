{
 "cells": [
  {
   "cell_type": "markdown",
   "metadata": {},
   "source": [
    "### Automate tickets remainder process"
   ]
  },
  {
   "cell_type": "markdown",
   "metadata": {},
   "source": [
    "The main goal of this python code is to automate the process of sending emails to employees that have tickets open for more than 3 days. \n",
    "This task has been performed with excel VBA but python can do the exact same thing in 3 minutes. In the past it would take me about 3 hours per week to send out the remainder emails to everyone on the team."
   ]
  },
  {
   "cell_type": "code",
   "execution_count": 5,
   "metadata": {},
   "outputs": [],
   "source": [
    "# import library needed\n",
    "\n",
    "import pandas as pd\n",
    "import smtplib\n",
    "import datetime\n",
    "import os\n",
    "import re\n",
    "\n",
    "from email.mime.text import MIMEText\n",
    "from email.mime.multipart import MIMEMultipart\n",
    "from email.mime.base import MIMEBase\n",
    "from email import encoders"
   ]
  },
  {
   "cell_type": "code",
   "execution_count": null,
   "metadata": {
    "scrolled": true
   },
   "outputs": [],
   "source": [
    "# open document\n",
    "data = pd.read_excel('yourfilename.xlsx')\n",
    "data.head()"
   ]
  },
  {
   "cell_type": "code",
   "execution_count": 6,
   "metadata": {},
   "outputs": [
    {
     "data": {
      "text/plain": [
       "(208, 12)"
      ]
     },
     "execution_count": 6,
     "metadata": {},
     "output_type": "execute_result"
    }
   ],
   "source": [
    "# dimension of data\n",
    "data.shape"
   ]
  },
  {
   "cell_type": "code",
   "execution_count": 18,
   "metadata": {},
   "outputs": [],
   "source": [
    "# people assigned with tickets from sso\n",
    "df = data[(data['Assignment group']=='sso-helpdesk-hr') | (data['Assignment group']=='sso-helpdesk-p2p') \n",
    "     | (data['Assignment group']=='sso-management')| (data['Assignment group']=='sso-p2p-ach-sua')]"
   ]
  },
  {
   "cell_type": "code",
   "execution_count": 9,
   "metadata": {},
   "outputs": [
    {
     "data": {
      "text/plain": [
       "(174, 12)"
      ]
     },
     "execution_count": 9,
     "metadata": {},
     "output_type": "execute_result"
    }
   ],
   "source": [
    "df.shape"
   ]
  },
  {
   "cell_type": "code",
   "execution_count": 10,
   "metadata": {},
   "outputs": [],
   "source": [
    "# divide the fin tickets in personal files\n",
    "for name, g in df.groupby('Assigned to'):\n",
    "    g.to_excel(f'{name}.xlsx', index=False)"
   ]
  },
  {
   "cell_type": "code",
   "execution_count": 11,
   "metadata": {},
   "outputs": [],
   "source": [
    "# get the path where all files arfe stored\n",
    "path = 'Users/yourname/Documents/E-ticketing/20191015'\n",
    "path = os.getcwd()\n",
    "files = os.listdir(path)"
   ]
  },
  {
   "cell_type": "code",
   "execution_count": 13,
   "metadata": {},
   "outputs": [],
   "source": [
    "# selected xlsx as they correspond to ticket's files\n",
    "files_xlsx = [f for f in files if f[-6:] == ').xlsx']\n"
   ]
  },
  {
   "cell_type": "code",
   "execution_count": null,
   "metadata": {},
   "outputs": [],
   "source": [
    "# get list of names\n",
    "str1 = ''.join(files_xlsx)\n",
    "index = re.findall(r'\\((.*?)\\)', str1)\n",
    "print(index) \n",
    "\n",
    "# get list of names and add university email\n",
    "string = '@uchicago.edu'\n",
    "emails_list = [x + string for x in index]\n"
   ]
  },
  {
   "cell_type": "code",
   "execution_count": 15,
   "metadata": {},
   "outputs": [],
   "source": [
    "# dictionary with managers and employees that will recieve email with tickets open\n",
    "# people - managers\n",
    "managers = {'teammember@uchicago.edu':'manager@uchicago.edu'            \n",
    "           }"
   ]
  },
  {
   "cell_type": "code",
   "execution_count": 16,
   "metadata": {},
   "outputs": [],
   "source": [
    "def send_email_work(f):\n",
    "    user = re.findall(r'\\((.*?)\\)', f)[0]\n",
    "    end_email = '@uchicago.edu'\n",
    "    single_email = user + end_email\n",
    "    print(single_email)    \n",
    "    \n",
    "    cc_email = []\n",
    "    if single_email in managers:\n",
    "        cc_email.append(managers[single_email])\n",
    "\n",
    "    # email details \n",
    "    email_user = 'youremail@uchicago.edu'\n",
    "    email_password = 'yourpassword'\n",
    "    email_send = single_email\n",
    "    subject = 'yoursubject'\n",
    "    cc = cc_email\n",
    "    \n",
    "    # compose msg\n",
    "    msg = MIMEMultipart()\n",
    "    msg['From'] = email_user\n",
    "    msg['To'] = email_send\n",
    "    msg['Subject'] = subject\n",
    "    msg['CC'] = ','.join(cc)\n",
    "    date = datetime.date.today().strftime('%m-%d-%Y')\n",
    "\n",
    "\n",
    "    # msg with attachment file\n",
    "    body = 'Hello, \\n\\nThis is courtesy email regarding ServiceNow tickets. Attached are SN tickets assigned to you that, as of '+ date + ', have not been updated in three or more days.'\n",
    "    msg.attach(MIMEText(body, 'plain'))\n",
    "    filename = f\n",
    "    attachment = open(filename, 'rb')\n",
    "\n",
    "    # set a part to read the email and attachated doc\n",
    "    part = MIMEBase('application','octet-stream')\n",
    "    part.set_payload((attachment).read())\n",
    "    encoders.encode_base64(part)\n",
    "    part.add_header('Content-Disposition',\"attachment; filename= \"+filename)\n",
    "    msg.attach(part)\n",
    "\n",
    "    # text of the email\n",
    "    text = msg.as_string()\n",
    "\n",
    "    # connect to server\n",
    "    email_send = [single_email] + cc\n",
    "    \n",
    "    #email_send = email_send\n",
    "    server = smtplib.SMTP('smtp-mail.outlook.com', 587)\n",
    "    server.starttls()\n",
    "    server.login(email_user,email_password)\n",
    "\n",
    "    # send and close application\n",
    "    server.sendmail(email_user,email_send,text)\n",
    "    server.quit()\n",
    "    return\n"
   ]
  },
  {
   "cell_type": "code",
   "execution_count": null,
   "metadata": {},
   "outputs": [],
   "source": [
    "for f in files:\n",
    "    if f[-6:] == ').xlsx': \n",
    "        if f[0].isupper():\n",
    "            send_email_work(f)\n",
    "            "
   ]
  }
 ],
 "metadata": {
  "kernelspec": {
   "display_name": "Python 3",
   "language": "python",
   "name": "python3"
  },
  "language_info": {
   "codemirror_mode": {
    "name": "ipython",
    "version": 3
   },
   "file_extension": ".py",
   "mimetype": "text/x-python",
   "name": "python",
   "nbconvert_exporter": "python",
   "pygments_lexer": "ipython3",
   "version": "3.7.3"
  }
 },
 "nbformat": 4,
 "nbformat_minor": 2
}
